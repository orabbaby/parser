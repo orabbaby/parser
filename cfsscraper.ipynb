{
 "cells": [
  {
   "cell_type": "code",
   "execution_count": 8,
   "id": "013191b9",
   "metadata": {},
   "outputs": [],
   "source": [
    "import pandas as pd\n",
    "import pickle\n",
    "import requests\n",
    "from bs4 import BeautifulSoup\n",
    "import cfscrape\n"
   ]
  },
  {
   "cell_type": "code",
   "execution_count": 9,
   "id": "6f36990c",
   "metadata": {},
   "outputs": [],
   "source": [
    "def process_single_product(url, base_df, n):\n",
    "    \n",
    "    session = get_session()\n",
    "    r = session.get(url)\n",
    "    \n",
    "    if r.status_code == 200:\n",
    "        pass\n",
    "    elif r.status_code >= 400:\n",
    "        print(url)\n",
    "        print(r.status_code)\n",
    "        return\n",
    "\n",
    "    soup = BeautifulSoup(r.content, 'lxml')\n",
    "    \n",
    "    #название товара\n",
    "    name = soup.find(\"h2\", class_ = \"product-name\").text\n",
    "    \n",
    "    #цена\n",
    "    price = soup.find(\"div\", class_ = \"product-price-wrapper\").span.text\n",
    "    \n",
    "    #описание\n",
    "    try:\n",
    "        desc = ''\n",
    "        for i in soup.find(\"div\", class_ = \"product-detail-description\").find_all(\"p\"):\n",
    "            desc += i.text\n",
    "    except:\n",
    "        desc = ''\n",
    "    \n",
    "    product = {\"id\": n, \"название товара\" : name, \"цена\" : price, \"описание\" : desc}\n",
    "    \n",
    "    product = pd.DataFrame(product, index=[\"id\"])\n",
    "    display(product)\n",
    "    if base_df is not None:\n",
    "        return pd.concat([base_df, product], ignore_index=True)\n",
    "    return product\n",
    "    \n",
    "    "
   ]
  },
  {
   "cell_type": "code",
   "execution_count": 15,
   "id": "904b31a7",
   "metadata": {},
   "outputs": [],
   "source": [
    "url = r\"https://bakerstore.ru/formy-dlya-vypechki/kolca-metallicheskie/forma-dlya-vypechki-kolco-diametr-18-sm-vysota-7-sm-nerzhave\""
   ]
  },
  {
   "cell_type": "code",
   "execution_count": 16,
   "id": "46ea6a0f",
   "metadata": {},
   "outputs": [],
   "source": [
    "def get_session():\n",
    "    session = requests.Session()\n",
    "    session.headers = {\n",
    "        'User-Agent':'Mozilla/5.0 (Windows NT 10.0; Win64; x64; rv:69.0)   Gecko/20100101 Firefox/69.0',\n",
    "        'Accept':'text/html,application/xhtml+xml,application/xml;q=0.9,*/*;q=0.8',\n",
    "        'Accept-Language':'ru,en-US;q=0.5',\n",
    "        'Accept-Encoding':'gzip, deflate, br',\n",
    "        'DNT':'1',\n",
    "        'Connection':'keep-alive',\n",
    "        'Upgrade-Insecure-Requests':'1',\n",
    "        'Pragma':'no-cache',\n",
    "        'Cache-Control':'no-cache'}\n",
    "    return cfscrape.create_scraper(sess=session)"
   ]
  },
  {
   "cell_type": "code",
   "execution_count": 17,
   "id": "54432ed7",
   "metadata": {},
   "outputs": [],
   "source": [
    "session = get_session()\n",
    "r = session.get(url)\n",
    "soup = BeautifulSoup(r.content, 'lxml')\n"
   ]
  },
  {
   "cell_type": "markdown",
   "id": "ff94406c",
   "metadata": {},
   "source": [
    "## Sas\n"
   ]
  },
  {
   "cell_type": "code",
   "execution_count": 18,
   "id": "1e918fdc",
   "metadata": {
    "scrolled": true
   },
   "outputs": [
    {
     "data": {
      "text/html": [
       "<div>\n",
       "<style scoped>\n",
       "    .dataframe tbody tr th:only-of-type {\n",
       "        vertical-align: middle;\n",
       "    }\n",
       "\n",
       "    .dataframe tbody tr th {\n",
       "        vertical-align: top;\n",
       "    }\n",
       "\n",
       "    .dataframe thead th {\n",
       "        text-align: right;\n",
       "    }\n",
       "</style>\n",
       "<table border=\"1\" class=\"dataframe\">\n",
       "  <thead>\n",
       "    <tr style=\"text-align: right;\">\n",
       "      <th></th>\n",
       "      <th>id</th>\n",
       "      <th>название товара</th>\n",
       "      <th>цена</th>\n",
       "      <th>описание</th>\n",
       "    </tr>\n",
       "  </thead>\n",
       "  <tbody>\n",
       "    <tr>\n",
       "      <th>id</th>\n",
       "      <td>0</td>\n",
       "      <td>Форма для выпечки Кольцо диаметр 18 см, высота...</td>\n",
       "      <td>369.0</td>\n",
       "      <td>Форма для выпечки Кольцо предназначена для вып...</td>\n",
       "    </tr>\n",
       "  </tbody>\n",
       "</table>\n",
       "</div>"
      ],
      "text/plain": [
       "    id                                    название товара   цена  \\\n",
       "id   0  Форма для выпечки Кольцо диаметр 18 см, высота...  369.0   \n",
       "\n",
       "                                             описание  \n",
       "id  Форма для выпечки Кольцо предназначена для вып...  "
      ]
     },
     "metadata": {},
     "output_type": "display_data"
    }
   ],
   "source": [
    "base_df = None\n",
    "n = 0\n",
    "base_df = process_single_product(url, base_df, n)\n",
    "\n",
    "#base_df.to_excel(f\"{name}.xlsx\")\n",
    "#base_df.to_pickle(f\"{name}.pkl\")\n",
    "    "
   ]
  },
  {
   "cell_type": "code",
   "execution_count": null,
   "id": "7c6febe4",
   "metadata": {},
   "outputs": [],
   "source": []
  },
  {
   "cell_type": "code",
   "execution_count": null,
   "id": "a98c4fe6",
   "metadata": {},
   "outputs": [],
   "source": []
  }
 ],
 "metadata": {
  "kernelspec": {
   "display_name": "Python 3 (ipykernel)",
   "language": "python",
   "name": "python3"
  },
  "language_info": {
   "codemirror_mode": {
    "name": "ipython",
    "version": 3
   },
   "file_extension": ".py",
   "mimetype": "text/x-python",
   "name": "python",
   "nbconvert_exporter": "python",
   "pygments_lexer": "ipython3",
   "version": "3.9.13"
  }
 },
 "nbformat": 4,
 "nbformat_minor": 5
}
